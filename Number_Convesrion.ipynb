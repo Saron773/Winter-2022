{
  "nbformat": 4,
  "nbformat_minor": 0,
  "metadata": {
    "colab": {
      "name": "Number Convesrion.ipynb",
      "provenance": [],
      "authorship_tag": "ABX9TyMTueElidt1ys7th+sgN8RX",
      "include_colab_link": true
    },
    "kernelspec": {
      "name": "python3",
      "display_name": "Python 3"
    },
    "language_info": {
      "name": "python"
    }
  },
  "cells": [
    {
      "cell_type": "markdown",
      "metadata": {
        "id": "view-in-github",
        "colab_type": "text"
      },
      "source": [
        "<a href=\"https://colab.research.google.com/github/Saron773/Winter-2022/blob/main/Number_Convesrion.ipynb\" target=\"_parent\"><img src=\"https://colab.research.google.com/assets/colab-badge.svg\" alt=\"Open In Colab\"/></a>"
      ]
    },
    {
      "cell_type": "code",
      "source": [
        "x = int(input(\"Hello please insert a number \" ))#Defining an integer X that holds the input value\n",
        "#the bin(), oct(), hex() functions are built in functions that compute binary, octal and hexadecimal values of a number\n",
        "print(\"The binary value is \" +bin(x)) #prints binary value\n",
        "print(\"The octal vale is \" + oct(x)) #prints octal value\n",
        "print(\"The hexadecimal value is \" +hex(x)) #prints hexadecimal value\n"
      ],
      "metadata": {
        "colab": {
          "base_uri": "https://localhost:8080/"
        },
        "id": "txnmW7mFidIo",
        "outputId": "2b4bec4b-a614-4f69-e84a-3439a0dba10b"
      },
      "execution_count": 38,
      "outputs": [
        {
          "output_type": "stream",
          "name": "stdout",
          "text": [
            "Hello please insert a number 40\n",
            "The binary value is 0b101000\n",
            "The octal vale is 0o50\n",
            "The hexadecimal value is 0x28\n"
          ]
        }
      ]
    }
  ]
}