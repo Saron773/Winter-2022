{
  "nbformat": 4,
  "nbformat_minor": 0,
  "metadata": {
    "colab": {
      "name": "Day3 While loops.ipynb",
      "provenance": [],
      "collapsed_sections": [],
      "authorship_tag": "ABX9TyOy6UUQsmaTZ/ifh0oGy+4+",
      "include_colab_link": true
    },
    "kernelspec": {
      "name": "python3",
      "display_name": "Python 3"
    },
    "language_info": {
      "name": "python"
    }
  },
  "cells": [
    {
      "cell_type": "markdown",
      "metadata": {
        "id": "view-in-github",
        "colab_type": "text"
      },
      "source": [
        "<a href=\"https://colab.research.google.com/github/Saron773/Winter-2022/blob/main/Day3_While_loops.ipynb\" target=\"_parent\"><img src=\"https://colab.research.google.com/assets/colab-badge.svg\" alt=\"Open In Colab\"/></a>"
      ]
    },
    {
      "cell_type": "code",
      "execution_count": 8,
      "metadata": {
        "id": "SbK9f_8A7HJU"
      },
      "outputs": [],
      "source": [
        "friends_ages = {'nick': '30',\n",
        "                'amanda': '25',\n",
        "                'john': '36',\n",
        "                'Hailey': '33'}"
      ]
    },
    {
      "cell_type": "code",
      "source": [
        "for name in friends_ages.keys():\n",
        "  print(name.title())\n",
        "  if name in fav_friends:\n",
        "    print ('Hi ' + name.title() + \"I see you are \" + '{friends_ages.values()}' )"
      ],
      "metadata": {
        "colab": {
          "base_uri": "https://localhost:8080/"
        },
        "id": "w98FRg9v7LpN",
        "outputId": "7d2c8bb0-3c91-4700-d668-2a30ff1be17b"
      },
      "execution_count": 25,
      "outputs": [
        {
          "output_type": "stream",
          "name": "stdout",
          "text": [
            "Nick\n",
            "Hi NickI see you are {friends_ages.values()}\n",
            "Amanda\n",
            "Hi AmandaI see you are {friends_ages.values()}\n",
            "John\n",
            "Hailey\n"
          ]
        }
      ]
    },
    {
      "cell_type": "code",
      "source": [
        "number = 1\n",
        "while number <= 5:\n",
        "  print(number)\n",
        "  number +=1"
      ],
      "metadata": {
        "colab": {
          "base_uri": "https://localhost:8080/"
        },
        "id": "UszmzO9O7Lfo",
        "outputId": "058c50fa-7a25-446a-ccb4-747c80c0c6f3"
      },
      "execution_count": 24,
      "outputs": [
        {
          "output_type": "stream",
          "name": "stdout",
          "text": [
            "1\n",
            "2\n",
            "3\n",
            "4\n",
            "5\n"
          ]
        }
      ]
    },
    {
      "cell_type": "code",
      "source": [
        "name = input('What is you name please? ')"
      ],
      "metadata": {
        "colab": {
          "base_uri": "https://localhost:8080/"
        },
        "id": "KiIRzWrL7Lcv",
        "outputId": "023352ce-72cf-47eb-8076-449da82760ec"
      },
      "execution_count": 29,
      "outputs": [
        {
          "name": "stdout",
          "output_type": "stream",
          "text": [
            "What is you name please Saron\n"
          ]
        }
      ]
    },
    {
      "cell_type": "code",
      "source": [
        "age = int(input('What is your age? '))"
      ],
      "metadata": {
        "colab": {
          "base_uri": "https://localhost:8080/"
        },
        "id": "GiNZXHk77LZ2",
        "outputId": "0c06425b-00e3-4542-9efc-5e6dbc02dcbd"
      },
      "execution_count": 28,
      "outputs": [
        {
          "name": "stdout",
          "output_type": "stream",
          "text": [
            "What is your age?20\n"
          ]
        }
      ]
    },
    {
      "cell_type": "code",
      "source": [
        "print(name)\n",
        "print(age)"
      ],
      "metadata": {
        "colab": {
          "base_uri": "https://localhost:8080/"
        },
        "id": "KCXIwPc67LW0",
        "outputId": "792c0c99-e851-4748-a35a-90d09ba16318"
      },
      "execution_count": 30,
      "outputs": [
        {
          "output_type": "stream",
          "name": "stdout",
          "text": [
            "Saron\n",
            "20\n"
          ]
        }
      ]
    },
    {
      "cell_type": "code",
      "source": [
        "prompt = 'Input message.. I will repeat until you type quit '\n",
        "message = ''\n",
        "\n",
        "while message!='quit':\n",
        "  message = input(prompt)\n",
        "  print(message)"
      ],
      "metadata": {
        "colab": {
          "base_uri": "https://localhost:8080/"
        },
        "id": "WmE87y-A7LT0",
        "outputId": "1ef599fb-c517-4f35-de94-7b81ae717b6f"
      },
      "execution_count": 34,
      "outputs": [
        {
          "output_type": "stream",
          "name": "stdout",
          "text": [
            "Input message.. I will repeat until you type quityes\n",
            "yes\n",
            "Input message.. I will repeat until you type quitno\n",
            "no\n",
            "Input message.. I will repeat until you type quitwhat\n",
            "what\n",
            "Input message.. I will repeat until you type quitquit\n",
            "quit\n"
          ]
        }
      ]
    },
    {
      "cell_type": "code",
      "source": [
        "dy = {'k1': 1, 'k2': 2, 'k3': 3, 'k4':4}"
      ],
      "metadata": {
        "id": "luwTq7R3qv3K"
      },
      "execution_count": 35,
      "outputs": []
    },
    {
      "cell_type": "code",
      "source": [
        "for item in dy:\n",
        "  print(item)"
      ],
      "metadata": {
        "colab": {
          "base_uri": "https://localhost:8080/"
        },
        "id": "vOdejRWmqvzw",
        "outputId": "93110736-8f01-4550-a36c-289f30452bfd"
      },
      "execution_count": 36,
      "outputs": [
        {
          "output_type": "stream",
          "name": "stdout",
          "text": [
            "k1\n",
            "k2\n",
            "k3\n",
            "k4\n"
          ]
        }
      ]
    },
    {
      "cell_type": "code",
      "source": [
        "for a,b in dy.items():\n",
        "  print('This key is '+ a + ' this value is ' + str(b))\n"
      ],
      "metadata": {
        "colab": {
          "base_uri": "https://localhost:8080/"
        },
        "id": "R7zoMJRyqvxI",
        "outputId": "934b5870-4c6b-4c64-f8b2-2698273f2a2a"
      },
      "execution_count": 40,
      "outputs": [
        {
          "output_type": "stream",
          "name": "stdout",
          "text": [
            "This key is k1 this value is 1\n",
            "This key is k2 this value is 2\n",
            "This key is k3 this value is 3\n",
            "This key is k4 this value is 4\n"
          ]
        }
      ]
    },
    {
      "cell_type": "code",
      "source": [
        ""
      ],
      "metadata": {
        "id": "VNJYI_C6qvuZ"
      },
      "execution_count": null,
      "outputs": []
    }
  ]
}