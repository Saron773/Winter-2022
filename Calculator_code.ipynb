{
  "nbformat": 4,
  "nbformat_minor": 0,
  "metadata": {
    "colab": {
      "name": "Calculator code.ipynb",
      "provenance": [],
      "collapsed_sections": [],
      "include_colab_link": true
    },
    "kernelspec": {
      "name": "python3",
      "display_name": "Python 3"
    },
    "language_info": {
      "name": "python"
    }
  },
  "cells": [
    {
      "cell_type": "markdown",
      "metadata": {
        "id": "view-in-github",
        "colab_type": "text"
      },
      "source": [
        "<a href=\"https://colab.research.google.com/github/Saron773/Winter-2022/blob/main/Calculator_code.ipynb\" target=\"_parent\"><img src=\"https://colab.research.google.com/assets/colab-badge.svg\" alt=\"Open In Colab\"/></a>"
      ]
    },
    {
      "cell_type": "code",
      "execution_count": null,
      "metadata": {
        "id": "pDgTVOUhN4ec"
      },
      "outputs": [],
      "source": [
        "def sub_num(a,b):\n",
        "    if a>b:\n",
        "      return a - b\n",
        "    else: \n",
        "      print('this will result a negative number')\n",
        "      return a - b\n",
        "\n",
        "def add_num(a,b): \n",
        "  sum = a+b    #assigned the sum of (a) and (b) to a variable called sum\n",
        "  print(f'{a} + {b} is equal to {sum}!')  #outputs the sum using f-string\n",
        "\n",
        "def multiply_num(a,b):\n",
        "      return print(a * b)      \n",
        "\n",
        "def div_num(a,b):  \n",
        "      return print(a / b) "
      ]
    },
    {
      "cell_type": "code",
      "source": [
        "# selection to take 1,2,3,4\n",
        "# 1 is addition\n",
        "# 2 is multiplication\n",
        "# 3 is division\n",
        "# 4 is subtraction\n",
        "\n",
        "\n",
        "def calculator_main_menu():\n",
        " ''' \n",
        " Input: This takes an input 1-4 from the user and then calls the proper function\n",
        " Output: Calls a function\n",
        " '''\n",
        " print('Welcome to the calculator main menu')\n",
        " print('Input 1 for addition')\n",
        " print('Input 2 for multiplication')\n",
        " print('Input 3 for divison')\n",
        " print('Input 4 for subtraction')\n",
        " selection = input('What is your selection: ')\n",
        " a = float(input('please enter the first number '))\n",
        " b = float(input('please enter the second number '))\n",
        "\n",
        "# checking what selection value is and sending to the right input \n",
        " if selection == '1':\n",
        "   add_num(a,b)\n",
        "       \n",
        " elif selection == '2':\n",
        "   multiply_num(a,b)\n",
        "         \n",
        " elif selection == '3':\n",
        "   div_num(a,b)\n",
        "          \n",
        " elif selection == '4':\n",
        "   sub_num(a,b)\n",
        "\n",
        "      \n",
        "\n"
      ],
      "metadata": {
        "id": "1ELoBdTlN8bT"
      },
      "execution_count": null,
      "outputs": []
    },
    {
      "cell_type": "code",
      "source": [
        "calculator_main_menu()"
      ],
      "metadata": {
        "colab": {
          "base_uri": "https://localhost:8080/"
        },
        "id": "H9WqKFlCOaq5",
        "outputId": "04af2bb9-0ba0-4e2d-d109-ebdb240aac54"
      },
      "execution_count": null,
      "outputs": [
        {
          "output_type": "stream",
          "name": "stdout",
          "text": [
            "Welcome to the calculator main menu\n",
            "Input 1 for addition\n",
            "Input 2 for multiplication\n",
            "Input 3 for divison\n",
            "Input 4 for subtraction\n",
            "What is your selection: 4\n",
            "please enter the first number 5\n",
            "please enter the second number 10\n",
            "this will result a negative number\n"
          ]
        }
      ]
    }
  ]
}