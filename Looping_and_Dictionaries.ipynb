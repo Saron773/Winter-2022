{
  "nbformat": 4,
  "nbformat_minor": 0,
  "metadata": {
    "colab": {
      "name": "Looping and Dictionaries.ipynb",
      "provenance": [],
      "collapsed_sections": [],
      "authorship_tag": "ABX9TyNUxKXKPmvR6wzhxLbmdXeF",
      "include_colab_link": true
    },
    "kernelspec": {
      "name": "python3",
      "display_name": "Python 3"
    },
    "language_info": {
      "name": "python"
    }
  },
  "cells": [
    {
      "cell_type": "markdown",
      "metadata": {
        "id": "view-in-github",
        "colab_type": "text"
      },
      "source": [
        "<a href=\"https://colab.research.google.com/github/Saron773/Winter-2022/blob/main/Looping_and_Dictionaries.ipynb\" target=\"_parent\"><img src=\"https://colab.research.google.com/assets/colab-badge.svg\" alt=\"Open In Colab\"/></a>"
      ]
    },
    {
      "cell_type": "markdown",
      "source": [
        "#Looping"
      ],
      "metadata": {
        "id": "H_OiWc_paB2s"
      }
    },
    {
      "cell_type": "code",
      "source": [
        "#Create a list that holds 5 data variables.\n",
        "cities = ['New York', 'Texas', 'Virgina', 'Colorado', 'Seattle']\n",
        "#Print out those variables by using a for loop.\n",
        "for i in cities:\n",
        "  print(i)"
      ],
      "metadata": {
        "colab": {
          "base_uri": "https://localhost:8080/"
        },
        "id": "yy2VFUNKaF2d",
        "outputId": "b9b33957-c072-4506-f329-6d351b6bcaf1"
      },
      "execution_count": 4,
      "outputs": [
        {
          "output_type": "stream",
          "name": "stdout",
          "text": [
            "New York\n",
            "Texas\n",
            "Virgina\n",
            "Colorado\n",
            "Seattle\n"
          ]
        }
      ]
    },
    {
      "cell_type": "code",
      "source": [
        "#Modify your for loop to add a message to your for loop.\n",
        "for i in cities:\n",
        "  print('I am from '+ i)"
      ],
      "metadata": {
        "colab": {
          "base_uri": "https://localhost:8080/"
        },
        "id": "vUdIt_3laFx7",
        "outputId": "5674f9f6-fefc-45df-b6f2-0c8343569aa7"
      },
      "execution_count": 17,
      "outputs": [
        {
          "output_type": "stream",
          "name": "stdout",
          "text": [
            "I am from New York\n",
            "I am from Texas\n",
            "I am from Virgina\n",
            "I am from Colorado\n",
            "I am from Seattle\n"
          ]
        }
      ]
    },
    {
      "cell_type": "code",
      "source": [
        "\n",
        "#Use a for loop to print even numbers from 1-20.\n",
        "\n",
        "for x in range(1,20):\n",
        "  if x%2==0:\n",
        "    print(x)\n"
      ],
      "metadata": {
        "colab": {
          "base_uri": "https://localhost:8080/"
        },
        "id": "8O-iMFCvaFvi",
        "outputId": "5ecee835-3a95-4e6e-ef86-98a17867ce85"
      },
      "execution_count": 7,
      "outputs": [
        {
          "output_type": "stream",
          "name": "stdout",
          "text": [
            "2\n",
            "4\n",
            "6\n",
            "8\n",
            "10\n",
            "12\n",
            "14\n",
            "16\n",
            "18\n"
          ]
        }
      ]
    },
    {
      "cell_type": "code",
      "source": [
        "#Sort your list in alphabetic order.\n",
        "print(sorted(cities))"
      ],
      "metadata": {
        "colab": {
          "base_uri": "https://localhost:8080/"
        },
        "id": "4iZJXU6MaFtU",
        "outputId": "da569a41-b092-4f2f-f398-0b020d887fa9"
      },
      "execution_count": 9,
      "outputs": [
        {
          "output_type": "stream",
          "name": "stdout",
          "text": [
            "['Colorado', 'New York', 'Seattle', 'Texas', 'Virgina']\n"
          ]
        }
      ]
    },
    {
      "cell_type": "code",
      "source": [
        "#Print out the first three elements of your list.\n",
        "print(cities[0])\n",
        "print(cities[1])\n",
        "print(cities[2])\n"
      ],
      "metadata": {
        "colab": {
          "base_uri": "https://localhost:8080/"
        },
        "id": "a201133oaFq3",
        "outputId": "f6131f96-b444-484a-c758-8c6d1945f536"
      },
      "execution_count": 11,
      "outputs": [
        {
          "output_type": "stream",
          "name": "stdout",
          "text": [
            "New York\n",
            "Texas\n",
            "Virgina\n"
          ]
        }
      ]
    },
    {
      "cell_type": "code",
      "source": [
        "#Create a loop to print the last 2 elements of your list.\n",
        "print(cities[-1])\n",
        "print(cities[-2])"
      ],
      "metadata": {
        "colab": {
          "base_uri": "https://localhost:8080/"
        },
        "id": "h1S6dRz8aFoW",
        "outputId": "bdc8c690-3d9f-4e18-9aab-965a9ac5a5ea"
      },
      "execution_count": 13,
      "outputs": [
        {
          "output_type": "stream",
          "name": "stdout",
          "text": [
            "Seattle\n",
            "Colorado\n"
          ]
        }
      ]
    },
    {
      "cell_type": "markdown",
      "source": [
        "#Python Dictionaries"
      ],
      "metadata": {
        "id": "HEBY-mkEaFln"
      }
    },
    {
      "cell_type": "code",
      "source": [
        "#Create a simple dictionary that stores 2 variables, for example: first and last name.\n",
        "name = {'firstname': 'Saron', 'lastname':'Ibrahim'}"
      ],
      "metadata": {
        "id": "nl2bGXpNesJp"
      },
      "execution_count": 27,
      "outputs": []
    },
    {
      "cell_type": "code",
      "source": [
        "#Print out those variables stored in your previous dictionary. \n",
        "print('the first name is ' + name['firstname'])\n",
        "print('the last name is ' + name['lastname'])"
      ],
      "metadata": {
        "colab": {
          "base_uri": "https://localhost:8080/"
        },
        "id": "jV0uxBr9esHB",
        "outputId": "b23bf504-def1-45e5-cd75-5caccad3fedf"
      },
      "execution_count": 40,
      "outputs": [
        {
          "output_type": "stream",
          "name": "stdout",
          "text": [
            "the first name is Saron\n",
            "the last name is Ibrahim\n"
          ]
        }
      ]
    },
    {
      "cell_type": "code",
      "source": [
        "#Add a message to those variables on printing: for example: “Hello, firstname lastname!”\n",
        "print('Hello '+ name['firstname'] + \" \" + name['lastname'] + '!')"
      ],
      "metadata": {
        "colab": {
          "base_uri": "https://localhost:8080/"
        },
        "id": "-9lXzIKTesEN",
        "outputId": "49bbcea3-5da0-4a9b-fbe2-66cf8a5f05e4"
      },
      "execution_count": 77,
      "outputs": [
        {
          "output_type": "stream",
          "name": "stdout",
          "text": [
            "Hello Saron Ibrahim!\n"
          ]
        }
      ]
    },
    {
      "cell_type": "code",
      "source": [
        "#Create a dictionary that holds 2 key: value pairs:\n",
        "occupation = {'Saron':'Data Analyst', 'Armon':\"Consultant\"}\n",
        "#Look through your dictionary and print each pair,\n",
        "for x,y in occupation.items():\n",
        "  print(x+ ' works as a ' + y)"
      ],
      "metadata": {
        "colab": {
          "base_uri": "https://localhost:8080/"
        },
        "id": "dEqJ_hZqesBc",
        "outputId": "1c8ed28c-ac37-4b6d-ec12-a8bf5ae1ec1f"
      },
      "execution_count": 79,
      "outputs": [
        {
          "output_type": "stream",
          "name": "stdout",
          "text": [
            "Saron works as a Data Analyst\n",
            "Armon works as a Consultant\n"
          ]
        }
      ]
    },
    {
      "cell_type": "code",
      "source": [
        "#Create a nested dictionary containing three dictionaries – these dictionaries could be anything (favorite pets, travel locations, etc.)\n",
        "favorites = {'Africa':{'location':'Ethiopia','food':'Kitfo'},\n",
        "             'Europe':{'location':'Italy','food':'Pasta'},\n",
        "             'Asia':{'location':'Singapore','food':'sushi'}}\n",
        "#Loop through the dictionaries and print a message for each.\n",
        "for a,b in favorites.items():\n",
        "    print(f\"In {a} the best travel destination is {b['location']} and the best food is {b['food']}\")"
      ],
      "metadata": {
        "colab": {
          "base_uri": "https://localhost:8080/"
        },
        "id": "ID_6D1KFluKL",
        "outputId": "c1c8ad59-c3d3-4992-828b-7bd98352cd77"
      },
      "execution_count": 80,
      "outputs": [
        {
          "output_type": "stream",
          "name": "stdout",
          "text": [
            "In Africa the best travel destination is Ethiopia and the best food is Kitfo\n",
            "In Europe the best travel destination is Italy and the best food is Pasta\n",
            "In Asia the best travel destination is Singapore and the best food is sushi\n"
          ]
        }
      ]
    },
    {
      "cell_type": "code",
      "source": [
        ""
      ],
      "metadata": {
        "id": "6__MubbZluAL"
      },
      "execution_count": null,
      "outputs": []
    }
  ]
}