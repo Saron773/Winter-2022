{
  "nbformat": 4,
  "nbformat_minor": 0,
  "metadata": {
    "colab": {
      "name": "Day3 for loops.ipynb",
      "provenance": [],
      "authorship_tag": "ABX9TyMp9HZo30gBhAaGySlYBUhJ",
      "include_colab_link": true
    },
    "kernelspec": {
      "name": "python3",
      "display_name": "Python 3"
    },
    "language_info": {
      "name": "python"
    }
  },
  "cells": [
    {
      "cell_type": "markdown",
      "metadata": {
        "id": "view-in-github",
        "colab_type": "text"
      },
      "source": [
        "<a href=\"https://colab.research.google.com/github/Saron773/Winter-2022/blob/main/Day3_for_loops.ipynb\" target=\"_parent\"><img src=\"https://colab.research.google.com/assets/colab-badge.svg\" alt=\"Open In Colab\"/></a>"
      ]
    },
    {
      "cell_type": "code",
      "execution_count": null,
      "metadata": {
        "id": "HfjckNKS7XA3"
      },
      "outputs": [],
      "source": [
        "for x in 'CUNY'\n",
        "print(x)"
      ]
    },
    {
      "cell_type": "code",
      "source": [
        "TV_Shows = ['GOT', 'Star Trek', 'Stranger Things']\n",
        "for i in TV_Shows:\n",
        "  print(i)"
      ],
      "metadata": {
        "colab": {
          "base_uri": "https://localhost:8080/"
        },
        "id": "YC55gYyS7Z5s",
        "outputId": "5f792441-f606-4304-d6c6-ed9c89b6393b"
      },
      "execution_count": 6,
      "outputs": [
        {
          "output_type": "stream",
          "name": "stdout",
          "text": [
            "GOT\n",
            "Star Trek\n",
            "Stranger Things\n"
          ]
        }
      ]
    },
    {
      "cell_type": "code",
      "source": [
        "Entree = []"
      ],
      "metadata": {
        "id": "bhUUmPJ97Z3Y"
      },
      "execution_count": 16,
      "outputs": []
    },
    {
      "cell_type": "code",
      "source": [
        "Entree.append('Salmon')\n",
        "Entree.append('Steak')\n",
        "Entree.append('Burger')\n",
        "Entree.append('Pasta')\n",
        "Entree.append('Pizza')\n",
        "Entree.append('Chicken')"
      ],
      "metadata": {
        "id": "ToQRPyfi7Z1G"
      },
      "execution_count": 18,
      "outputs": []
    },
    {
      "cell_type": "code",
      "source": [
        "for i in Entree:\n",
        "  print('My favorite meal is '+ i.upper())"
      ],
      "metadata": {
        "colab": {
          "base_uri": "https://localhost:8080/"
        },
        "id": "eQDsweeM7Zyp",
        "outputId": "c9ad9309-0f9b-4fed-ed98-1e28860ae55b"
      },
      "execution_count": 20,
      "outputs": [
        {
          "output_type": "stream",
          "name": "stdout",
          "text": [
            "My favorite meal is SALMON\n",
            "My favorite meal is STEAK\n",
            "My favorite meal is BURGER\n",
            "My favorite meal is PASTA\n",
            "My favorite meal is PIZZA\n",
            "My favorite meal is SALMON\n",
            "My favorite meal is STEAK\n",
            "My favorite meal is BURGER\n",
            "My favorite meal is PASTA\n",
            "My favorite meal is PIZZA\n",
            "My favorite meal is CHICKEN\n"
          ]
        }
      ]
    },
    {
      "cell_type": "code",
      "source": [
        "for i in Entree:\n",
        "  print('My favorite meal is '+ i.upper())"
      ],
      "metadata": {
        "colab": {
          "base_uri": "https://localhost:8080/"
        },
        "id": "MMLtI-xB7Zv8",
        "outputId": "9e60a142-692a-4f2a-8d98-3ea925dc220a"
      },
      "execution_count": 21,
      "outputs": [
        {
          "output_type": "stream",
          "name": "stdout",
          "text": [
            "My favorite meal is SALMON\n",
            "My favorite meal is STEAK\n",
            "My favorite meal is BURGER\n",
            "My favorite meal is PASTA\n",
            "My favorite meal is PIZZA\n",
            "My favorite meal is SALMON\n",
            "My favorite meal is STEAK\n",
            "My favorite meal is BURGER\n",
            "My favorite meal is PASTA\n",
            "My favorite meal is PIZZA\n",
            "My favorite meal is CHICKEN\n"
          ]
        }
      ]
    },
    {
      "cell_type": "code",
      "source": [
        "for x in range(1,5):\n",
        "  print(x+1)"
      ],
      "metadata": {
        "colab": {
          "base_uri": "https://localhost:8080/"
        },
        "id": "f6oM7YipCgkQ",
        "outputId": "d35e3fed-192b-4d84-a6a1-39d677c5f308"
      },
      "execution_count": 27,
      "outputs": [
        {
          "output_type": "stream",
          "name": "stdout",
          "text": [
            "2\n",
            "3\n",
            "4\n",
            "5\n"
          ]
        }
      ]
    },
    {
      "cell_type": "code",
      "source": [
        "for x in range(1,5,1):\n",
        "  print(x)"
      ],
      "metadata": {
        "colab": {
          "base_uri": "https://localhost:8080/"
        },
        "id": "uiC6oyltCggm",
        "outputId": "e017b75a-f023-4f36-8d21-9a24b083f4e5"
      },
      "execution_count": 31,
      "outputs": [
        {
          "output_type": "stream",
          "name": "stdout",
          "text": [
            "1\n",
            "2\n",
            "3\n",
            "4\n"
          ]
        }
      ]
    },
    {
      "cell_type": "code",
      "source": [
        "l = [2,4,6,7,9,10,11,13,15,17,19]"
      ],
      "metadata": {
        "id": "R_fhZoClIwnd"
      },
      "execution_count": 34,
      "outputs": []
    },
    {
      "cell_type": "code",
      "source": [
        "for x in l:\n",
        "  if x%2!=0:\n",
        "    print(x)\n",
        "  else:\n",
        "      print(x, 'This is not an odd number')"
      ],
      "metadata": {
        "colab": {
          "base_uri": "https://localhost:8080/"
        },
        "id": "mbIyNshJCgY8",
        "outputId": "addd1037-adea-4c1d-bbaa-034d48214848"
      },
      "execution_count": 35,
      "outputs": [
        {
          "output_type": "stream",
          "name": "stdout",
          "text": [
            "2 This is not an odd number\n",
            "4 This is not an odd number\n",
            "6 This is not an odd number\n",
            "7\n",
            "9\n",
            "10 This is not an odd number\n",
            "11\n",
            "13\n",
            "15\n",
            "17\n",
            "19\n"
          ]
        }
      ]
    },
    {
      "cell_type": "code",
      "source": [
        "for letter in 'This is a string':\n",
        "  print(letter)"
      ],
      "metadata": {
        "colab": {
          "base_uri": "https://localhost:8080/"
        },
        "id": "UR9kC1qfCgUZ",
        "outputId": "01e18d29-f971-4d5f-c1d6-3ba69ab0719b"
      },
      "execution_count": 36,
      "outputs": [
        {
          "output_type": "stream",
          "name": "stdout",
          "text": [
            "T\n",
            "h\n",
            "i\n",
            "s\n",
            " \n",
            "i\n",
            "s\n",
            " \n",
            "a\n",
            " \n",
            "s\n",
            "t\n",
            "r\n",
            "i\n",
            "n\n",
            "g\n"
          ]
        }
      ]
    },
    {
      "cell_type": "code",
      "source": [
        "l2 = [12, 45, 6, 3, 45, 678, 2, 45657]\n",
        "listSum = 0\n",
        "\n",
        "for num in l2:\n",
        "  listSum = listSum + num\n",
        "\n",
        "print(listSum)"
      ],
      "metadata": {
        "colab": {
          "base_uri": "https://localhost:8080/"
        },
        "id": "efY-ohKxCgQ3",
        "outputId": "eb6fc2da-eb9d-4d1a-8534-225b8220ad4d"
      },
      "execution_count": 37,
      "outputs": [
        {
          "output_type": "stream",
          "name": "stdout",
          "text": [
            "46448\n"
          ]
        }
      ]
    },
    {
      "cell_type": "code",
      "source": [
        "dy = {'k1': 1, 'k2': 2, 'k3': 3, 'k4':4}"
      ],
      "metadata": {
        "id": "8H0bj9FmCgN3"
      },
      "execution_count": 39,
      "outputs": []
    },
    {
      "cell_type": "code",
      "source": [
        "for item in dy:\n",
        "  print(item)"
      ],
      "metadata": {
        "colab": {
          "base_uri": "https://localhost:8080/"
        },
        "id": "2boZ-QUzCgKw",
        "outputId": "fd05b2d1-a2c3-4b3f-af8c-53dc6b9f256f"
      },
      "execution_count": 40,
      "outputs": [
        {
          "output_type": "stream",
          "name": "stdout",
          "text": [
            "k1\n",
            "k2\n",
            "k3\n",
            "k4\n"
          ]
        }
      ]
    },
    {
      "cell_type": "code",
      "source": [
        "for a,b in dy.items():\n",
        "  print(a)\n",
        "  print(b)"
      ],
      "metadata": {
        "colab": {
          "base_uri": "https://localhost:8080/"
        },
        "id": "BEXTs12-CgDN",
        "outputId": "b17aee95-33ac-49da-81aa-0e85a9a65c8b"
      },
      "execution_count": 41,
      "outputs": [
        {
          "output_type": "stream",
          "name": "stdout",
          "text": [
            "k1\n",
            "1\n",
            "k2\n",
            "2\n",
            "k3\n",
            "3\n",
            "k4\n",
            "4\n"
          ]
        }
      ]
    },
    {
      "cell_type": "code",
      "source": [
        ""
      ],
      "metadata": {
        "id": "tOdnvQ_NCgAv"
      },
      "execution_count": null,
      "outputs": []
    },
    {
      "cell_type": "code",
      "source": [
        ""
      ],
      "metadata": {
        "id": "s3e6qUEgCf-G"
      },
      "execution_count": null,
      "outputs": []
    },
    {
      "cell_type": "code",
      "source": [
        ""
      ],
      "metadata": {
        "id": "5DRE2Y9dCf7o"
      },
      "execution_count": null,
      "outputs": []
    },
    {
      "cell_type": "code",
      "source": [
        ""
      ],
      "metadata": {
        "id": "mD036P7RCf48"
      },
      "execution_count": null,
      "outputs": []
    },
    {
      "cell_type": "code",
      "source": [
        ""
      ],
      "metadata": {
        "id": "6krPTqaLCf0a"
      },
      "execution_count": null,
      "outputs": []
    },
    {
      "cell_type": "code",
      "source": [
        ""
      ],
      "metadata": {
        "id": "eaOoEs9YCfv_"
      },
      "execution_count": null,
      "outputs": []
    },
    {
      "cell_type": "code",
      "source": [
        ""
      ],
      "metadata": {
        "id": "vGn5VeSNCftR"
      },
      "execution_count": null,
      "outputs": []
    },
    {
      "cell_type": "code",
      "source": [
        ""
      ],
      "metadata": {
        "id": "40RVY3DE7ZtU"
      },
      "execution_count": null,
      "outputs": []
    }
  ]
}