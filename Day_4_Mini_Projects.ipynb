{
  "nbformat": 4,
  "nbformat_minor": 0,
  "metadata": {
    "colab": {
      "name": "Day 4 Mini Projects.ipynb",
      "provenance": [],
      "collapsed_sections": [],
      "authorship_tag": "ABX9TyMej94JUjKt6rIEw5QBQoSS",
      "include_colab_link": true
    },
    "kernelspec": {
      "name": "python3",
      "display_name": "Python 3"
    },
    "language_info": {
      "name": "python"
    }
  },
  "cells": [
    {
      "cell_type": "markdown",
      "metadata": {
        "id": "view-in-github",
        "colab_type": "text"
      },
      "source": [
        "<a href=\"https://colab.research.google.com/github/Saron773/Winter-2022/blob/main/Day_4_Mini_Projects.ipynb\" target=\"_parent\"><img src=\"https://colab.research.google.com/assets/colab-badge.svg\" alt=\"Open In Colab\"/></a>"
      ]
    },
    {
      "cell_type": "markdown",
      "source": [
        "#Even or Odd"
      ],
      "metadata": {
        "id": "Y1ehJid0uOYj"
      }
    },
    {
      "cell_type": "code",
      "source": [
        "\n",
        "''' This function will take a number from the user and checks if the number is even or odd\n",
        "Author : Saron Ibrahim\n",
        "Input : number from user\n",
        "Output : prints if a number is even or odd '''"
      ],
      "metadata": {
        "id": "tBgDOKr6vLvO"
      },
      "execution_count": null,
      "outputs": []
    },
    {
      "cell_type": "code",
      "source": [
        "def checkNumbers(): #definig a function called number\n",
        "  x = int(input('Please enter a number ')) #asking the user to input an integer number \n",
        "  if x%2 == 0: #checks if the has a remainder by diving it by 2\n",
        "   print(f'{x} is an even number') #prints x is an even number if it's even\n",
        "  if x%4 == 0: #checks if the has a remainder by diving it by 4\n",
        "    print(f'{x} is an even number divisible by four')\n",
        "  else:\n",
        "   print(f'{x} is an odd number') #prints x is an odd number if it's odd"
      ],
      "metadata": {
        "id": "9FMyGygrvLs8"
      },
      "execution_count": 15,
      "outputs": []
    },
    {
      "cell_type": "code",
      "source": [
        "checkNumbers()"
      ],
      "metadata": {
        "colab": {
          "base_uri": "https://localhost:8080/"
        },
        "id": "0iZQxNwOzdEm",
        "outputId": "9ada19c1-a83d-44c7-b865-c47a29c06950"
      },
      "execution_count": 16,
      "outputs": [
        {
          "output_type": "stream",
          "name": "stdout",
          "text": [
            "Please enter a number 16\n",
            "16 is an even number\n",
            "16 is an even number divisible by four\n"
          ]
        }
      ]
    },
    {
      "cell_type": "code",
      "source": [
        "\n",
        "\n",
        "def checkDivision(): #defining a function\n",
        "  if num1%check ==0:\n",
        "    print(f'{num1} is divisible by {check}')\n",
        "  else:\n",
        "    print(f'{num1} is not divisible by {check}')\n",
        " #definig a function called number\n",
        "def evenorODD():\n",
        "  if num1%2 == 0: #checks if the has a remainder by diving it by 2\n",
        "   print(f'{num1} is an even number') #prints x is an even number \n",
        "  else:\n",
        "   print(f'{num} is an odd number') #prints x is an odd number\n",
        "\n",
        "def main():\n",
        " num1 = int(input('Please enter the dividend '))\n",
        " check = int(input('Please enter the divisor '))\n",
        " checkDivision()\n",
        " evenorODD()"
      ],
      "metadata": {
        "id": "odvu1HHXzc07"
      },
      "execution_count": 44,
      "outputs": []
    },
    {
      "cell_type": "code",
      "source": [
        "main()"
      ],
      "metadata": {
        "colab": {
          "base_uri": "https://localhost:8080/"
        },
        "id": "mDu2XhnU5MZp",
        "outputId": "da43bcef-5c1e-49d8-942b-815140b380ba"
      },
      "execution_count": 50,
      "outputs": [
        {
          "output_type": "stream",
          "name": "stdout",
          "text": [
            "Please enter the dividend 15\n",
            "Please enter the divisor 3\n",
            "10 is divisible by 5\n",
            "10 is an even number\n"
          ]
        }
      ]
    },
    {
      "cell_type": "code",
      "source": [
        ""
      ],
      "metadata": {
        "id": "VDTsybnF5MWg"
      },
      "execution_count": null,
      "outputs": []
    }
  ]
}