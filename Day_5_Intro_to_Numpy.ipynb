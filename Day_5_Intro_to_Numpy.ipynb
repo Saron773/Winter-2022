{
  "nbformat": 4,
  "nbformat_minor": 0,
  "metadata": {
    "colab": {
      "name": "Day 5 Intro to Numpy.ipynb",
      "provenance": [],
      "collapsed_sections": [],
      "authorship_tag": "ABX9TyN+zSCFXFXbGZO04Qgrl48s",
      "include_colab_link": true
    },
    "kernelspec": {
      "name": "python3",
      "display_name": "Python 3"
    },
    "language_info": {
      "name": "python"
    }
  },
  "cells": [
    {
      "cell_type": "markdown",
      "metadata": {
        "id": "view-in-github",
        "colab_type": "text"
      },
      "source": [
        "<a href=\"https://colab.research.google.com/github/Saron773/Winter-2022/blob/main/Day_5_Intro_to_Numpy.ipynb\" target=\"_parent\"><img src=\"https://colab.research.google.com/assets/colab-badge.svg\" alt=\"Open In Colab\"/></a>"
      ]
    },
    {
      "cell_type": "markdown",
      "source": [
        "#Intro to Numpy"
      ],
      "metadata": {
        "id": "ou8RiJ-R6x5I"
      }
    },
    {
      "cell_type": "code",
      "source": [
        "import numpy as np"
      ],
      "metadata": {
        "id": "aTY6E-eK67yf"
      },
      "execution_count": null,
      "outputs": []
    },
    {
      "cell_type": "code",
      "source": [
        "np_city = np.array(['NYC', 'LA', 'Maimi', 'Houston'])"
      ],
      "metadata": {
        "id": "Hxjn71er68GC"
      },
      "execution_count": null,
      "outputs": []
    },
    {
      "cell_type": "code",
      "source": [
        "np_city.shape"
      ],
      "metadata": {
        "colab": {
          "base_uri": "https://localhost:8080/"
        },
        "id": "8-VbiI1C68Kb",
        "outputId": "b9ed8818-8da5-4729-f196-d858b4d1c9a5"
      },
      "execution_count": null,
      "outputs": [
        {
          "output_type": "execute_result",
          "data": {
            "text/plain": [
              "(4,)"
            ]
          },
          "metadata": {},
          "execution_count": 4
        }
      ]
    },
    {
      "cell_type": "code",
      "source": [
        "np_city.size"
      ],
      "metadata": {
        "colab": {
          "base_uri": "https://localhost:8080/"
        },
        "id": "ZxbydWx368Rv",
        "outputId": "f7ca5d83-9ca0-4062-af74-ab1a8ca2d0b7"
      },
      "execution_count": null,
      "outputs": [
        {
          "output_type": "execute_result",
          "data": {
            "text/plain": [
              "4"
            ]
          },
          "metadata": {},
          "execution_count": 5
        }
      ]
    },
    {
      "cell_type": "code",
      "source": [
        "np_city.dtype"
      ],
      "metadata": {
        "colab": {
          "base_uri": "https://localhost:8080/"
        },
        "id": "gP7Xn8SO68W4",
        "outputId": "71afcccf-924c-44cc-cf7a-55479b3e2d64"
      },
      "execution_count": null,
      "outputs": [
        {
          "output_type": "execute_result",
          "data": {
            "text/plain": [
              "dtype('<U7')"
            ]
          },
          "metadata": {},
          "execution_count": 6
        }
      ]
    },
    {
      "cell_type": "code",
      "source": [
        "np_city2 = np.array([['NYC', 'LA', 'Maimi', 'Houston'], \n",
        "                     ['NY', 'CA', 'FL', 'TX']])"
      ],
      "metadata": {
        "id": "0UcpFY3d68aC"
      },
      "execution_count": null,
      "outputs": []
    },
    {
      "cell_type": "code",
      "source": [
        "np_city2.shape"
      ],
      "metadata": {
        "colab": {
          "base_uri": "https://localhost:8080/"
        },
        "id": "Ii-2QHv168fN",
        "outputId": "aa49d380-cc24-47c5-a4a8-f10a08cb5b7d"
      },
      "execution_count": null,
      "outputs": [
        {
          "output_type": "execute_result",
          "data": {
            "text/plain": [
              "(2, 4)"
            ]
          },
          "metadata": {},
          "execution_count": 9
        }
      ]
    },
    {
      "cell_type": "code",
      "source": [
        "np_city2.dtype"
      ],
      "metadata": {
        "colab": {
          "base_uri": "https://localhost:8080/"
        },
        "id": "YnrOtFyN8sQP",
        "outputId": "5a532f6b-f841-4d28-f762-7237721f3563"
      },
      "execution_count": null,
      "outputs": [
        {
          "output_type": "execute_result",
          "data": {
            "text/plain": [
              "dtype('<U7')"
            ]
          },
          "metadata": {},
          "execution_count": 10
        }
      ]
    },
    {
      "cell_type": "code",
      "source": [
        "np_city2.size"
      ],
      "metadata": {
        "colab": {
          "base_uri": "https://localhost:8080/"
        },
        "id": "rbEmFUpZ8sN_",
        "outputId": "2cdfc383-9a5a-4028-f1e0-2d081b6496de"
      },
      "execution_count": null,
      "outputs": [
        {
          "output_type": "execute_result",
          "data": {
            "text/plain": [
              "8"
            ]
          },
          "metadata": {},
          "execution_count": 11
        }
      ]
    },
    {
      "cell_type": "code",
      "source": [
        "# Create a np array with 4 lists in it... \n",
        "# each list must have 10 items in it"
      ],
      "metadata": {
        "id": "n8X_g6mJ8sLt"
      },
      "execution_count": null,
      "outputs": []
    },
    {
      "cell_type": "code",
      "source": [
        "np_numbers = np.array([['1','2','3','4','5','6','7','8','9','10'],\n",
        "                      ['11','12','13','14','15','16','17','18','19','20'],\n",
        "                      ['21','22','23','24','25','26','27','28','29','30'],\n",
        "                      ['31','32','33','34','35','36','37','38','39','40']])"
      ],
      "metadata": {
        "id": "IkEZ9hfQ8sJV"
      },
      "execution_count": null,
      "outputs": []
    },
    {
      "cell_type": "code",
      "source": [
        "np_numbers.shape"
      ],
      "metadata": {
        "colab": {
          "base_uri": "https://localhost:8080/"
        },
        "id": "2S1c5MtA8sHK",
        "outputId": "f623b290-d0b6-4d2d-c3dc-90816beffcec"
      },
      "execution_count": null,
      "outputs": [
        {
          "output_type": "execute_result",
          "data": {
            "text/plain": [
              "(4, 10)"
            ]
          },
          "metadata": {},
          "execution_count": 14
        }
      ]
    },
    {
      "cell_type": "code",
      "source": [
        "np_numbers.size"
      ],
      "metadata": {
        "colab": {
          "base_uri": "https://localhost:8080/"
        },
        "id": "yjKXM0bu8sCn",
        "outputId": "dc7ab7ee-48a2-4d8d-9811-7153a81a3b06"
      },
      "execution_count": null,
      "outputs": [
        {
          "output_type": "execute_result",
          "data": {
            "text/plain": [
              "40"
            ]
          },
          "metadata": {},
          "execution_count": 15
        }
      ]
    },
    {
      "cell_type": "code",
      "source": [
        "first_trial_cyclist = [10, 15, 17, 26, 37, 49, 57, 61]"
      ],
      "metadata": {
        "id": "uON0sFNj8sAR"
      },
      "execution_count": null,
      "outputs": []
    },
    {
      "cell_type": "code",
      "source": [
        "second_trial_cyclist = [11, 45, 65, 24, 23, 45, 90, 99]"
      ],
      "metadata": {
        "id": "pwBIwELd_xQb"
      },
      "execution_count": null,
      "outputs": []
    },
    {
      "cell_type": "code",
      "source": [
        "np_first_trial = np.array(first_trial_cyclist)\n",
        "np_second_trial = np.array(second_trial_cyclist)"
      ],
      "metadata": {
        "id": "qTt0nkHm_xNo"
      },
      "execution_count": null,
      "outputs": []
    },
    {
      "cell_type": "code",
      "source": [
        "np_first_trial + np_second_trial"
      ],
      "metadata": {
        "colab": {
          "base_uri": "https://localhost:8080/"
        },
        "id": "yQ__RjaH_xI4",
        "outputId": "f685dc6b-1f8f-47db-8d9e-a1133e32c447"
      },
      "execution_count": null,
      "outputs": [
        {
          "output_type": "execute_result",
          "data": {
            "text/plain": [
              "array([ 21,  60,  82,  50,  60,  94, 147, 160])"
            ]
          },
          "metadata": {},
          "execution_count": 19
        }
      ]
    },
    {
      "cell_type": "code",
      "source": [
        "np_first_trial[1] * np_second_trial[5]"
      ],
      "metadata": {
        "colab": {
          "base_uri": "https://localhost:8080/"
        },
        "id": "Sg3JBIo6_xGV",
        "outputId": "374fe76c-79ce-4e41-f071-6fafbb97b46e"
      },
      "execution_count": null,
      "outputs": [
        {
          "output_type": "execute_result",
          "data": {
            "text/plain": [
              "675"
            ]
          },
          "metadata": {},
          "execution_count": 20
        }
      ]
    },
    {
      "cell_type": "code",
      "source": [
        "cyclist_trial = np.array([[10, 15, 17, 26],[12, 11, 21, 24]])"
      ],
      "metadata": {
        "id": "9E2VkOuX_xEL"
      },
      "execution_count": null,
      "outputs": []
    },
    {
      "cell_type": "code",
      "source": [
        "ftrail = cyclist_trial[0]"
      ],
      "metadata": {
        "id": "TNIdMFIw_xCD"
      },
      "execution_count": null,
      "outputs": []
    },
    {
      "cell_type": "code",
      "source": [
        "ftrail"
      ],
      "metadata": {
        "colab": {
          "base_uri": "https://localhost:8080/"
        },
        "id": "EhEON1va_xAB",
        "outputId": "6d7516f4-ec3b-4832-83db-991e991891e2"
      },
      "execution_count": null,
      "outputs": [
        {
          "output_type": "execute_result",
          "data": {
            "text/plain": [
              "array([10, 15, 17, 26])"
            ]
          },
          "metadata": {},
          "execution_count": 23
        }
      ]
    },
    {
      "cell_type": "code",
      "source": [
        "newlist = ['string1', 'string2']"
      ],
      "metadata": {
        "id": "PZMfFU1h_w9v"
      },
      "execution_count": null,
      "outputs": []
    },
    {
      "cell_type": "code",
      "source": [
        "newlist[0]"
      ],
      "metadata": {
        "colab": {
          "base_uri": "https://localhost:8080/",
          "height": 35
        },
        "id": "pJSh0n2x_w7m",
        "outputId": "01784846-d802-4001-aa5e-3f8e2b8b359f"
      },
      "execution_count": null,
      "outputs": [
        {
          "output_type": "execute_result",
          "data": {
            "application/vnd.google.colaboratory.intrinsic+json": {
              "type": "string"
            },
            "text/plain": [
              "'string1'"
            ]
          },
          "metadata": {},
          "execution_count": 25
        }
      ]
    },
    {
      "cell_type": "code",
      "source": [
        "newlist[0][2]"
      ],
      "metadata": {
        "colab": {
          "base_uri": "https://localhost:8080/",
          "height": 35
        },
        "id": "ucVleGYT_w5U",
        "outputId": "fa2e0618-e050-489e-e2bc-db9c2be37023"
      },
      "execution_count": null,
      "outputs": [
        {
          "output_type": "execute_result",
          "data": {
            "application/vnd.google.colaboratory.intrinsic+json": {
              "type": "string"
            },
            "text/plain": [
              "'r'"
            ]
          },
          "metadata": {},
          "execution_count": 26
        }
      ]
    },
    {
      "cell_type": "code",
      "source": [
        "test_score = np.array([[83, 71, 67, 63],[54,68,81,45]])"
      ],
      "metadata": {
        "id": "lnROyNoR_w3s"
      },
      "execution_count": null,
      "outputs": []
    },
    {
      "cell_type": "code",
      "source": [
        "passsed = test_score > 60"
      ],
      "metadata": {
        "id": "UbL1xX-W_w1L"
      },
      "execution_count": null,
      "outputs": []
    },
    {
      "cell_type": "code",
      "source": [
        "passsed"
      ],
      "metadata": {
        "colab": {
          "base_uri": "https://localhost:8080/"
        },
        "id": "3OJ5WFzv_wyx",
        "outputId": "8a0f13a9-0443-408f-dbf3-aaa558dea2c9"
      },
      "execution_count": null,
      "outputs": [
        {
          "output_type": "execute_result",
          "data": {
            "text/plain": [
              "array([[ True,  True,  True,  True],\n",
              "       [False,  True,  True, False]])"
            ]
          },
          "metadata": {},
          "execution_count": 29
        }
      ]
    },
    {
      "cell_type": "code",
      "source": [
        "test2_scores = test_score"
      ],
      "metadata": {
        "id": "Tl3hGCJRCVTw"
      },
      "execution_count": null,
      "outputs": []
    },
    {
      "cell_type": "code",
      "source": [
        "test_score is test2_scores"
      ],
      "metadata": {
        "colab": {
          "base_uri": "https://localhost:8080/"
        },
        "id": "E_Jbz7QOCVRG",
        "outputId": "6221b432-94f0-4e71-9b42-5a72f2f4f778"
      },
      "execution_count": null,
      "outputs": [
        {
          "output_type": "execute_result",
          "data": {
            "text/plain": [
              "True"
            ]
          },
          "metadata": {},
          "execution_count": 31
        }
      ]
    },
    {
      "cell_type": "code",
      "source": [
        "test2_scores[1][3] = 78"
      ],
      "metadata": {
        "id": "5lH3Dw_eGz70"
      },
      "execution_count": 43,
      "outputs": []
    },
    {
      "cell_type": "code",
      "source": [
        "test2_scores"
      ],
      "metadata": {
        "colab": {
          "base_uri": "https://localhost:8080/"
        },
        "id": "b4P4y796G0Fw",
        "outputId": "d7f4fc9c-9589-4e74-84cd-8346bd60c483"
      },
      "execution_count": 44,
      "outputs": [
        {
          "output_type": "execute_result",
          "data": {
            "text/plain": [
              "array([[83, 71, 67, 63],\n",
              "       [54, 68, 81, 78]])"
            ]
          },
          "metadata": {},
          "execution_count": 44
        }
      ]
    },
    {
      "cell_type": "code",
      "source": [
        "test_score #both array values are updating cause we are making a hard copy"
      ],
      "metadata": {
        "colab": {
          "base_uri": "https://localhost:8080/"
        },
        "id": "ejs22C6qG0JJ",
        "outputId": "d92f7e48-eb0b-401a-9019-1d2e940e2a3d"
      },
      "execution_count": 45,
      "outputs": [
        {
          "output_type": "execute_result",
          "data": {
            "text/plain": [
              "array([[83, 71, 67, 63],\n",
              "       [54, 68, 81, 78]])"
            ]
          },
          "metadata": {},
          "execution_count": 45
        }
      ]
    },
    {
      "cell_type": "code",
      "source": [
        ""
      ],
      "metadata": {
        "id": "xfr-1hghG0MK"
      },
      "execution_count": null,
      "outputs": []
    },
    {
      "cell_type": "code",
      "source": [
        "NYC_Boroughs = np.array(['Manhattan', 'Brooklyn', 'Queens', 'Bronx', 'Staten Island'])"
      ],
      "metadata": {
        "id": "LuvursunCVOt"
      },
      "execution_count": null,
      "outputs": []
    },
    {
      "cell_type": "code",
      "source": [
        "NYC_Boroughs"
      ],
      "metadata": {
        "colab": {
          "base_uri": "https://localhost:8080/"
        },
        "id": "d3dDAuVoCVL8",
        "outputId": "0af7fd86-9972-41d3-f3f2-3af48919c076"
      },
      "execution_count": null,
      "outputs": [
        {
          "output_type": "execute_result",
          "data": {
            "text/plain": [
              "array(['Manhattan', 'Brooklyn', 'Queens', 'Bronx', 'Staten Island'],\n",
              "      dtype='<U13')"
            ]
          },
          "metadata": {},
          "execution_count": 34
        }
      ]
    },
    {
      "cell_type": "code",
      "source": [
        "NY_Boroughs = NYC_Boroughs.view()"
      ],
      "metadata": {
        "id": "z37sfMN6CVJC"
      },
      "execution_count": null,
      "outputs": []
    },
    {
      "cell_type": "code",
      "source": [
        "len(NY_Boroughs)"
      ],
      "metadata": {
        "colab": {
          "base_uri": "https://localhost:8080/"
        },
        "id": "6WhDGsjyFfLn",
        "outputId": "3f135138-e09f-4579-aa4e-377dc6d89141"
      },
      "execution_count": null,
      "outputs": [
        {
          "output_type": "execute_result",
          "data": {
            "text/plain": [
              "5"
            ]
          },
          "metadata": {},
          "execution_count": 40
        }
      ]
    },
    {
      "cell_type": "code",
      "source": [
        "len(NYC_Boroughs)"
      ],
      "metadata": {
        "colab": {
          "base_uri": "https://localhost:8080/"
        },
        "id": "z117WHjqCUyY",
        "outputId": "f71bc19c-8bdc-4e4a-d8b3-96d70dadf2f9"
      },
      "execution_count": null,
      "outputs": [
        {
          "output_type": "execute_result",
          "data": {
            "text/plain": [
              "5"
            ]
          },
          "metadata": {},
          "execution_count": 39
        }
      ]
    },
    {
      "cell_type": "code",
      "source": [
        "NY_Boroughs[4] = 'Central Park'"
      ],
      "metadata": {
        "id": "0nhMtUcUFN00"
      },
      "execution_count": null,
      "outputs": []
    },
    {
      "cell_type": "code",
      "source": [
        "NY_Boroughs"
      ],
      "metadata": {
        "id": "GJr5P0mUFnxs",
        "outputId": "cf93aa58-9408-4fa6-84eb-0f0a83e76387",
        "colab": {
          "base_uri": "https://localhost:8080/"
        }
      },
      "execution_count": null,
      "outputs": [
        {
          "output_type": "execute_result",
          "data": {
            "text/plain": [
              "array(['Manhattan', 'Brooklyn', 'Queens', 'Bronx', 'Central Park'],\n",
              "      dtype='<U13')"
            ]
          },
          "metadata": {},
          "execution_count": 42
        }
      ]
    },
    {
      "cell_type": "code",
      "source": [
        ""
      ],
      "metadata": {
        "id": "q-1XBznSFnvA"
      },
      "execution_count": null,
      "outputs": []
    },
    {
      "cell_type": "code",
      "source": [
        "NYC_Boroughs is NY_Boroughs #with view these two arrays aren't the same, changes made to original won't affect the other one"
      ],
      "metadata": {
        "colab": {
          "base_uri": "https://localhost:8080/"
        },
        "id": "hhPjuG4dFNyL",
        "outputId": "1cb72cce-b918-4c16-9620-9ba58ff62d1a"
      },
      "execution_count": null,
      "outputs": [
        {
          "output_type": "execute_result",
          "data": {
            "text/plain": [
              "False"
            ]
          },
          "metadata": {},
          "execution_count": 41
        }
      ]
    },
    {
      "cell_type": "code",
      "source": [
        "NYC = NYC_Boroughs.copy()"
      ],
      "metadata": {
        "id": "QT0K6qBdFNvi"
      },
      "execution_count": 46,
      "outputs": []
    },
    {
      "cell_type": "code",
      "source": [
        "NYC is NYC_Boroughs"
      ],
      "metadata": {
        "id": "1hkJFQ5AFNtJ",
        "colab": {
          "base_uri": "https://localhost:8080/"
        },
        "outputId": "4af67131-86d6-4c4c-ec69-38f66cd16bfa"
      },
      "execution_count": 47,
      "outputs": [
        {
          "output_type": "execute_result",
          "data": {
            "text/plain": [
              "False"
            ]
          },
          "metadata": {},
          "execution_count": 47
        }
      ]
    },
    {
      "cell_type": "code",
      "source": [
        "NYC[4] = 'Astoria'"
      ],
      "metadata": {
        "id": "6JOYVluVFNqW"
      },
      "execution_count": 48,
      "outputs": []
    },
    {
      "cell_type": "code",
      "source": [
        "NYC #4th element updates to Astoria"
      ],
      "metadata": {
        "colab": {
          "base_uri": "https://localhost:8080/"
        },
        "id": "g5vSopiGHtjo",
        "outputId": "e0ac8845-794b-4257-c3fa-ca138c01bd18"
      },
      "execution_count": 51,
      "outputs": [
        {
          "output_type": "execute_result",
          "data": {
            "text/plain": [
              "array(['Manhattan', 'Brooklyn', 'Queens', 'Bronx', 'Astoria'],\n",
              "      dtype='<U13')"
            ]
          },
          "metadata": {},
          "execution_count": 51
        }
      ]
    },
    {
      "cell_type": "code",
      "source": [
        "NYC_Boroughs #4th element in the array isn't changed"
      ],
      "metadata": {
        "id": "7FGjUdqFFNoG",
        "colab": {
          "base_uri": "https://localhost:8080/"
        },
        "outputId": "fd8bc737-a96a-4d13-e828-22a34f4bf186"
      },
      "execution_count": 49,
      "outputs": [
        {
          "output_type": "execute_result",
          "data": {
            "text/plain": [
              "array(['Manhattan', 'Brooklyn', 'Queens', 'Bronx', 'Central Park'],\n",
              "      dtype='<U13')"
            ]
          },
          "metadata": {},
          "execution_count": 49
        }
      ]
    },
    {
      "cell_type": "code",
      "source": [
        ""
      ],
      "metadata": {
        "id": "uuFYkECKFNlH"
      },
      "execution_count": null,
      "outputs": []
    }
  ]
}