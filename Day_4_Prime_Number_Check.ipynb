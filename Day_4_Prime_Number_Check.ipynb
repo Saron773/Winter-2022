{
  "nbformat": 4,
  "nbformat_minor": 0,
  "metadata": {
    "colab": {
      "name": "Day 4 Prime Number Check.ipynb",
      "provenance": [],
      "collapsed_sections": [],
      "authorship_tag": "ABX9TyMZ6QUE3qS55TUOtwJ9y4Do",
      "include_colab_link": true
    },
    "kernelspec": {
      "name": "python3",
      "display_name": "Python 3"
    },
    "language_info": {
      "name": "python"
    }
  },
  "cells": [
    {
      "cell_type": "markdown",
      "metadata": {
        "id": "view-in-github",
        "colab_type": "text"
      },
      "source": [
        "<a href=\"https://colab.research.google.com/github/Saron773/Winter-2022/blob/main/Day_4_Prime_Number_Check.ipynb\" target=\"_parent\"><img src=\"https://colab.research.google.com/assets/colab-badge.svg\" alt=\"Open In Colab\"/></a>"
      ]
    },
    {
      "cell_type": "markdown",
      "source": [
        "#Prime Number Check"
      ],
      "metadata": {
        "id": "GDpgJojKm9gc"
      }
    },
    {
      "cell_type": "code",
      "source": [
        "# define what prime numbers are\n",
        "#Prime number is a natural number greater than one that is not a product of two smaller numbers.\n",
        "\n",
        "def primeCheck():\n",
        "  '''\n",
        "  This function should check if a number is prime number or not.\n",
        "  '''\n",
        "  num1 = input('Enter a number to see if its prime ')\n",
        "\n",
        "  if int(num1) > 1:\n",
        "    for x in range(2,int(num1)):\n",
        "# checks to see if the number is divisible by the other number less than num1 and greater than one\n",
        "      if (int(num1) % x) == 0:\n",
        "        print(f\"{num1} is not a prime number\")\n",
        "        break\n",
        "    else:\n",
        "      print(f\"{num1} is a prime number\")\n",
        "\n",
        "  else:\n",
        "      print(f\"{num1} is not a prime number\")"
      ],
      "metadata": {
        "id": "xAUIjJLkm-Bl"
      },
      "execution_count": 1,
      "outputs": []
    },
    {
      "cell_type": "code",
      "source": [
        "primeCheck()"
      ],
      "metadata": {
        "colab": {
          "base_uri": "https://localhost:8080/"
        },
        "id": "o_OmdSDJm-Eu",
        "outputId": "16a1d830-2c11-4b9f-84c9-798a33234079"
      },
      "execution_count": 4,
      "outputs": [
        {
          "output_type": "stream",
          "name": "stdout",
          "text": [
            "Enter a number to see if its prime 10\n",
            "10 is not a prime number\n"
          ]
        }
      ]
    },
    {
      "cell_type": "code",
      "source": [
        ""
      ],
      "metadata": {
        "id": "TewRDPVYm-Hi"
      },
      "execution_count": null,
      "outputs": []
    },
    {
      "cell_type": "code",
      "source": [
        ""
      ],
      "metadata": {
        "id": "zTWeTRHqm-Kh"
      },
      "execution_count": null,
      "outputs": []
    },
    {
      "cell_type": "code",
      "source": [
        ""
      ],
      "metadata": {
        "id": "8vBAlW4km-NT"
      },
      "execution_count": null,
      "outputs": []
    }
  ]
}