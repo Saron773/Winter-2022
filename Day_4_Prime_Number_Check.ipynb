{
  "nbformat": 4,
  "nbformat_minor": 0,
  "metadata": {
    "colab": {
      "name": "Day 4 Prime Number Check.ipynb",
      "provenance": [],
      "collapsed_sections": [],
      "authorship_tag": "ABX9TyN4s7CYhU2KEQr1ynVI2AMV",
      "include_colab_link": true
    },
    "kernelspec": {
      "name": "python3",
      "display_name": "Python 3"
    },
    "language_info": {
      "name": "python"
    }
  },
  "cells": [
    {
      "cell_type": "markdown",
      "metadata": {
        "id": "view-in-github",
        "colab_type": "text"
      },
      "source": [
        "<a href=\"https://colab.research.google.com/github/Saron773/Winter-2022/blob/main/Day_4_Prime_Number_Check.ipynb\" target=\"_parent\"><img src=\"https://colab.research.google.com/assets/colab-badge.svg\" alt=\"Open In Colab\"/></a>"
      ]
    },
    {
      "cell_type": "code",
      "execution_count": null,
      "metadata": {
        "id": "GDpgJojKm9gc"
      },
      "outputs": [],
      "source": [
        ""
      ]
    },
    {
      "cell_type": "code",
      "source": [
        "# define what prime numbers are\n",
        "\n",
        "def primeCheck():\n",
        "  '''\n",
        "  This function should define what a prime number is.\n",
        "  '''\n",
        "  num1 = input('Enter a number to see if its prime ')\n",
        "\n",
        "  if int(num1) > 1:\n",
        "    for x in range(2,int(num1)):\n",
        "# checks to see if the number is divisible by the other number\n",
        "      if (int(num1) % x) == 0:\n",
        "        print(f\"{num1} is not a prime number\")\n",
        "        break\n",
        "    else:\n",
        "      print(f\"{num1} is a prime number\")\n",
        "\n",
        "  else:\n",
        "      print(f\"{num1} is not a prime number\")"
      ],
      "metadata": {
        "id": "xAUIjJLkm-Bl"
      },
      "execution_count": null,
      "outputs": []
    },
    {
      "cell_type": "code",
      "source": [
        ""
      ],
      "metadata": {
        "id": "o_OmdSDJm-Eu"
      },
      "execution_count": null,
      "outputs": []
    },
    {
      "cell_type": "code",
      "source": [
        ""
      ],
      "metadata": {
        "id": "TewRDPVYm-Hi"
      },
      "execution_count": null,
      "outputs": []
    },
    {
      "cell_type": "code",
      "source": [
        ""
      ],
      "metadata": {
        "id": "zTWeTRHqm-Kh"
      },
      "execution_count": null,
      "outputs": []
    },
    {
      "cell_type": "code",
      "source": [
        ""
      ],
      "metadata": {
        "id": "8vBAlW4km-NT"
      },
      "execution_count": null,
      "outputs": []
    }
  ]
}